{
  "nbformat": 4,
  "nbformat_minor": 0,
  "metadata": {
    "colab": {
      "name": "superdense_coding.ipynb",
      "provenance": [],
      "authorship_tag": "ABX9TyPL0Ci0SbVJj0xPpJpcTGPk",
      "include_colab_link": true
    },
    "kernelspec": {
      "name": "python3",
      "display_name": "Python 3"
    }
  },
  "cells": [
    {
      "cell_type": "markdown",
      "metadata": {
        "id": "view-in-github",
        "colab_type": "text"
      },
      "source": [
        "<a href=\"https://colab.research.google.com/github/Ben-Foxman/Quantum-Exploration/blob/main/superdense_coding.ipynb\" target=\"_parent\"><img src=\"https://colab.research.google.com/assets/colab-badge.svg\" alt=\"Open In Colab\"/></a>"
      ]
    },
    {
      "cell_type": "code",
      "metadata": {
        "id": "uMIfOlH1sjbc"
      },
      "source": [
        "!pip install qiskit\n",
        "from qiskit import * "
      ],
      "execution_count": null,
      "outputs": []
    },
    {
      "cell_type": "code",
      "metadata": {
        "id": "LuGyEq8Js-pB"
      },
      "source": [
        "import matplotlib.pyplot as plt\n",
        "import numpy as np\n",
        "from qiskit import *\n"
      ],
      "execution_count": null,
      "outputs": []
    },
    {
      "cell_type": "markdown",
      "metadata": {
        "id": "mk4V0slnHSAM"
      },
      "source": [
        "An implementation of superdense coding, a protocol to transmit 2 classical bits of information by sedning only one qubit. To do this, entanglement into bell states is used.\n"
      ]
    },
    {
      "cell_type": "code",
      "metadata": {
        "id": "u05GdSzp2FQG"
      },
      "source": [
        "bits = '01' # the 2 bits to send\n",
        "assert bits in ['00', '01', '10', '11']"
      ],
      "execution_count": null,
      "outputs": []
    },
    {
      "cell_type": "code",
      "metadata": {
        "id": "k9z77DSgzgRv"
      },
      "source": [
        "# p1 encodes by creating map from each of the 4 bell states to each of the 4 2-bit codes\n",
        "def encode(target):\n",
        "  bell = QuantumCircuit(2, 2, name=\"bell\")\n",
        "  bell.h([0, 1]) # this entangles p1 and p2's qubit, allowing each to have only one\n",
        "  if target == '01': \n",
        "    bell.x([0, 1])\n",
        "  elif target == '10':\n",
        "    bell.z(0)\n",
        "  elif target == '11':\n",
        "    bell.z(0)\n",
        "    bell.x([0, 1])\n",
        "  # '00'= identity, keep the bell state 00 + 11\n",
        "  return bell\n",
        "\n"
      ],
      "execution_count": null,
      "outputs": []
    },
    {
      "cell_type": "code",
      "metadata": {
        "id": "diA6ctay-qfq"
      },
      "source": [
        "# now, p2 decodes the circuit \n",
        "def decode(circuit):\n",
        "  # step 1: cnot it \n",
        "  circuit.cx(0, 1)\n",
        "  #step 2: h-gate and measure\n",
        "  circuit.h(0)\n",
        "  circuit.measure([0, 1], [0, 1])\n",
        "  return circuit"
      ],
      "execution_count": null,
      "outputs": []
    },
    {
      "cell_type": "code",
      "metadata": {
        "colab": {
          "base_uri": "https://localhost:8080/"
        },
        "id": "eVAskR1n0kZR",
        "outputId": "6ee6fa6c-cbf5-484e-dfae-01f90d0550ef"
      },
      "source": [
        "backend = Aer.get_backend('statevector_simulator')\n",
        "circ = encode(bits)\n",
        "message = decode(circ)\n",
        "job = execute(message, backend)\n",
        "result = job.result()\n",
        "print(np.round(result.get_statevector(), 2))\n"
      ],
      "execution_count": null,
      "outputs": [
        {
          "output_type": "stream",
          "text": [
            "[ 0.+0.j -0.+0.j  1.-0.j -0.+0.j]\n"
          ],
          "name": "stdout"
        }
      ]
    }
  ]
}